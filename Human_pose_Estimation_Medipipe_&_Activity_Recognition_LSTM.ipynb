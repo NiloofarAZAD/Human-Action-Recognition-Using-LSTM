{
 "cells": [
  {
   "cell_type": "code",
   "execution_count": 2,
   "metadata": {},
   "outputs": [],
   "source": [
    "# import libraries\n",
    "import cv2\n",
    "import mediapipe as mp\n",
    "import numpy as np"
   ]
  },
  {
   "cell_type": "code",
   "execution_count": 3,
   "metadata": {},
   "outputs": [],
   "source": [
    "# holistic model\n",
    "mp_holistic = mp.solutions.holistic\n",
    "\n",
    "# Initialize mediapipe drawing class\n",
    "mp_drawing = mp.solutions.drawing_utils"
   ]
  },
  {
   "cell_type": "code",
   "execution_count": 4,
   "metadata": {},
   "outputs": [],
   "source": [
    "def detection (img, model):\n",
    "    img = cv2.cvtColor(img, cv2.COLOR_BGR2RGB) # convert the input into RGB format to pass to mediapipe\n",
    "    results = model.process(img) # detection\n",
    "    img = cv2.cvtColor(img, cv2.COLOR_RGB2BGR) # convert the input into BGR format to pass to opencv imshow\n",
    "    return img, results"
   ]
  },
  {
   "cell_type": "code",
   "execution_count": 16,
   "metadata": {},
   "outputs": [],
   "source": [
    "def draw_landmarks (img, results):\n",
    "    mp_drawing.draw_landmarks(img, results.face_landmarks, mp_holistic.FACEMESH_CONTOURS, mp_drawing.DrawingSpec(color=(80,110,10), thickness=1, circle_radius=1),mp_drawing.DrawingSpec(color=(80,256,121), thickness=1, circle_radius=1))\n",
    "    mp_drawing.draw_landmarks(img, results.pose_landmarks, mp_holistic.POSE_CONNECTIONS, mp_drawing.DrawingSpec(color=(255,128,0), thickness=2, circle_radius=2),mp_drawing.DrawingSpec(color=(80,22,10), thickness=2, circle_radius=2))\n",
    "    mp_drawing.draw_landmarks(img, results.left_hand_landmarks, mp_holistic.HAND_CONNECTIONS, mp_drawing.DrawingSpec(color=(255,51,153), thickness=2, circle_radius=2),mp_drawing.DrawingSpec(color=(80,22,10), thickness=2, circle_radius=2))\n",
    "    mp_drawing.draw_landmarks(img, results.right_hand_landmarks, mp_holistic.HAND_CONNECTIONS, mp_drawing.DrawingSpec(color=(255,51,153), thickness=2, circle_radius=2),mp_drawing.DrawingSpec(color=(80,22,10), thickness=2, circle_radius=2))"
   ]
  },
  {
   "cell_type": "code",
   "execution_count": 17,
   "metadata": {},
   "outputs": [],
   "source": [
    "# get webcam\n",
    "cap = cv2.VideoCapture('./videoplayback.mp4')\n",
    "#cap = cv2.VideoCapture(0)\n",
    "\n",
    "with mp_holistic.Holistic(min_detection_confidence=0.5, min_tracking_confidence=0.5) as holistic:\n",
    "    while True:\n",
    "        ret, frame = cap.read()\n",
    "\n",
    "        img, results = detection(frame, holistic) # make detection\n",
    "        draw_landmarks(img,results) # draw landmarks\n",
    "\n",
    "        cv2.imshow('Human Pose Estimation', img)\n",
    "        if cv2.waitKey(10) & 0xFF == ord('q'):\n",
    "            break\n",
    "    cap.release()\n",
    "    cv2.destroyAllWindows()"
   ]
  },
  {
   "cell_type": "code",
   "execution_count": 28,
   "metadata": {},
   "outputs": [
    {
     "data": {
      "text/plain": [
       "33"
      ]
     },
     "execution_count": 28,
     "metadata": {},
     "output_type": "execute_result"
    }
   ],
   "source": [
    "len(results.pose_landmarks.landmark)"
   ]
  },
  {
   "cell_type": "code",
   "execution_count": 29,
   "metadata": {},
   "outputs": [
    {
     "name": "stdout",
     "output_type": "stream",
     "text": [
      "NOSE:\n",
      "x: 0.4362970292568207\n",
      "y: 0.2314050942659378\n",
      "z: -0.38031822443008423\n",
      "visibility: 0.9999972581863403\n",
      "\n",
      "LEFT_EYE_INNER:\n",
      "x: 0.44820255041122437\n",
      "y: 0.22117887437343597\n",
      "z: -0.3325987160205841\n",
      "visibility: 0.99998939037323\n",
      "\n",
      "LEFT_EYE:\n",
      "x: 0.4575251638889313\n",
      "y: 0.22145380079746246\n",
      "z: -0.33260613679885864\n",
      "visibility: 0.9999900460243225\n",
      "\n",
      "LEFT_EYE_OUTER:\n",
      "x: 0.46521201729774475\n",
      "y: 0.22194400429725647\n",
      "z: -0.33270493149757385\n",
      "visibility: 0.9999896287918091\n",
      "\n"
     ]
    }
   ],
   "source": [
    "if results.pose_landmarks.landmark:\n",
    "    for i in range(4):\n",
    "        print(f'{mp_holistic.PoseLandmark(i).name}:\\n{results.pose_landmarks.landmark[mp_holistic.PoseLandmark(i).value]}') "
   ]
  },
  {
   "cell_type": "code",
   "execution_count": null,
   "metadata": {},
   "outputs": [],
   "source": []
  }
 ],
 "metadata": {
  "kernelspec": {
   "display_name": "Python 3",
   "language": "python",
   "name": "python3"
  },
  "language_info": {
   "codemirror_mode": {
    "name": "ipython",
    "version": 3
   },
   "file_extension": ".py",
   "mimetype": "text/x-python",
   "name": "python",
   "nbconvert_exporter": "python",
   "pygments_lexer": "ipython3",
   "version": "3.10.7"
  },
  "orig_nbformat": 4
 },
 "nbformat": 4,
 "nbformat_minor": 2
}
