{
 "cells": [
  {
   "cell_type": "code",
   "execution_count": 42,
   "metadata": {},
   "outputs": [],
   "source": [
    "# import libraries\n",
    "import cv2\n",
    "import numpy as np\n",
    "import mediapipe as mp\n",
    "import os\n",
    "from sklearn.model_selection import train_test_split\n",
    "from keras.utils import to_categorical\n",
    "from keras.models import Sequential\n",
    "from keras.layers import LSTM, Dense, Flatten, Dropout, BatchNormalization, TimeDistributed, Lambda, GlobalMaxPooling3D\n",
    "from keras.applications import VGG19\n",
    "from keras.callbacks import TensorBoard"
   ]
  },
  {
   "cell_type": "code",
   "execution_count": 2,
   "metadata": {},
   "outputs": [],
   "source": [
    "mp_holistic = mp.solutions.holistic # holistic model\n",
    "mp_drawing = mp.solutions.drawing_utils # Initialize mediapipe drawing utilities"
   ]
  },
  {
   "cell_type": "code",
   "execution_count": 3,
   "metadata": {},
   "outputs": [],
   "source": [
    "def detection (img, model):\n",
    "    img = cv2.cvtColor(img, cv2.COLOR_BGR2RGB) # convert the input into RGB format to pass to mediapipe\n",
    "    img.flags.writeable = False # To improve performance, mark the image as not writeable\n",
    "    results = model.process(img) # detection model\n",
    "    img.flags.writeable = True\n",
    "    img = cv2.cvtColor(img, cv2.COLOR_RGB2BGR) # convert the input into BGR format to pass to opencv imshow\n",
    "    return img, results"
   ]
  },
  {
   "cell_type": "code",
   "execution_count": 4,
   "metadata": {},
   "outputs": [],
   "source": [
    "def draw_landmarks (img, results):\n",
    "    mp_drawing.draw_landmarks(img, results.pose_landmarks, mp_holistic.POSE_CONNECTIONS, mp_drawing.DrawingSpec(color=(255,128,0), thickness=2, circle_radius=2),mp_drawing.DrawingSpec(color=(80,22,10), thickness=2, circle_radius=2))\n",
    "    mp_drawing.draw_landmarks(img, results.left_hand_landmarks, mp_holistic.HAND_CONNECTIONS, mp_drawing.DrawingSpec(color=(255,51,153), thickness=2, circle_radius=2),mp_drawing.DrawingSpec(color=(80,22,10), thickness=2, circle_radius=2))\n",
    "    mp_drawing.draw_landmarks(img, results.right_hand_landmarks, mp_holistic.HAND_CONNECTIONS, mp_drawing.DrawingSpec(color=(255,51,153), thickness=2, circle_radius=2),mp_drawing.DrawingSpec(color=(80,22,10), thickness=2, circle_radius=2))"
   ]
  },
  {
   "cell_type": "code",
   "execution_count": 5,
   "metadata": {},
   "outputs": [],
   "source": [
    "# get webcam\n",
    "cap = cv2.VideoCapture('./videoplayback.mp4')\n",
    "with mp_holistic.Holistic(min_detection_confidence=0.5, min_tracking_confidence=0.5) as holistic:\n",
    "    while True:\n",
    "        ret, frame = cap.read()\n",
    "\n",
    "        img, results = detection(frame, holistic) # make detectionq\n",
    "        draw_landmarks(img,results) # draw landmarks\n",
    "\n",
    "        cv2.imshow('Human Pose Estimation', img)\n",
    "        if cv2.waitKey(10) & 0xFF == ord('q'):\n",
    "            break\n",
    "    cap.release()\n",
    "    cv2.destroyAllWindows()"
   ]
  },
  {
   "cell_type": "code",
   "execution_count": 6,
   "metadata": {},
   "outputs": [],
   "source": [
    "# extracting body keypoints\n",
    "# flatten the array so that it can be passed to the LSTM model\n",
    "def keypoint_extraction(results):\n",
    "    pose = np.array([[res.x, res.y, res.z, res.visibility] for res in results.pose_landmarks.landmark]).flatten() if results.pose_landmarks else np.zeros(33*4)\n",
    "    left_hand = np.array([[res.x, res.y, res.z] for res in results.left_hand_landmarks.landmark]).flatten() if results.left_hand_landmarks else np.zeros(21*3)\n",
    "    right_hand = np.array([[res.x, res.y, res.z] for res in results.right_hand_landmarks.landmark]).flatten() if results.right_hand_landmarks else np.zeros(21*3)\n",
    "    return np.concatenate([pose, left_hand, right_hand])"
   ]
  },
  {
   "cell_type": "code",
   "execution_count": 7,
   "metadata": {},
   "outputs": [],
   "source": [
    "DATA_PATH = os.path.join('data') \n",
    "actions = ['punch', 'guard', 'normal'] # declare actions\n",
    "vids_num = 30\n",
    "vid_length = 30 #frames\n",
    "\n",
    "# data directory\n",
    "for action in actions:\n",
    "    for vid in range(vids_num):\n",
    "        os.makedirs(os.path.join('data', action, str(vid)))"
   ]
  },
  {
   "cell_type": "code",
   "execution_count": 8,
   "metadata": {},
   "outputs": [],
   "source": [
    "# collecting data\n",
    "cap = cv2.VideoCapture(0)\n",
    "with mp_holistic.Holistic(min_detection_confidence=0.5, min_tracking_confidence=0.5) as holistic:\n",
    "    for action in actions:\n",
    "        for vid in range(vids_num):\n",
    "            for frame_num in range(vid_length):\n",
    "                ret, frame = cap.read()\n",
    "\n",
    "                img, results = detection(frame, holistic)\n",
    "                draw_landmarks(img,results) \n",
    "\n",
    "                if frame_num == 0: \n",
    "                    cv2.putText(img, 'Start collecting', (120,200), cv2.FONT_HERSHEY_SIMPLEX, 1, (0,255, 0), 4, cv2.LINE_AA)\n",
    "                    cv2.putText(img, 'Collecting frames for {} Video Number {}'.format(action, vid), (15,12), cv2.FONT_HERSHEY_SIMPLEX, 0.5, (0, 0, 255), 1, cv2.LINE_AA)\n",
    "                    cv2.imshow('OpenCV Feed', img)\n",
    "                    cv2.waitKey(2000)\n",
    "                else: \n",
    "                    cv2.putText(img, 'Collecting frames for {} Video Number {}'.format(action, vid), (15,12), cv2.FONT_HERSHEY_SIMPLEX, 0.5, (0, 0, 255), 1, cv2.LINE_AA)\n",
    "                    cv2.imshow('OpenCV Feed', img)\n",
    "                \n",
    "                keypoints = keypoint_extraction(results)\n",
    "                npy_path = os.path.join(DATA_PATH, action, str(vid), str(frame_num))\n",
    "                np.save(npy_path, keypoints)\n",
    "\n",
    "                if cv2.waitKey(10) & 0xFF == ord('q'):\n",
    "                    break\n",
    "    cap.release()\n",
    "    cv2.destroyAllWindows()"
   ]
  },
  {
   "cell_type": "code",
   "execution_count": 22,
   "metadata": {},
   "outputs": [
    {
     "data": {
      "text/plain": [
       "{'punch': 0, 'guard': 1, 'normal': 2}"
      ]
     },
     "execution_count": 22,
     "metadata": {},
     "output_type": "execute_result"
    }
   ],
   "source": [
    "label_map = {label:num for num, label in enumerate(actions)}\n",
    "label_map"
   ]
  },
  {
   "cell_type": "code",
   "execution_count": 30,
   "metadata": {},
   "outputs": [],
   "source": [
    "# save each frame in a numpy array\n",
    "sequences, labels = [], []\n",
    "for action in actions:\n",
    "    for vid in range(vids_num):\n",
    "        window = []\n",
    "        for frame_num in range(vid_length):\n",
    "            res = np.load(os.path.join(DATA_PATH, action, str(vid), \"{}.npy\".format(frame_num)))\n",
    "            res = cv2.resize(res,(256,256))\n",
    "            res = res/255.0 #normalization\n",
    "\n",
    "            window.append(res)\n",
    "        sequences.append(window)\n",
    "        labels.append(label_map[action])"
   ]
  },
  {
   "cell_type": "code",
   "execution_count": 31,
   "metadata": {},
   "outputs": [
    {
     "name": "stdout",
     "output_type": "stream",
     "text": [
      "(90, 30, 258)\n",
      "(90,)\n"
     ]
    }
   ],
   "source": [
    "print(np.array(sequences).shape)\n",
    "print(np.array(labels).shape)"
   ]
  },
  {
   "cell_type": "code",
   "execution_count": 33,
   "metadata": {},
   "outputs": [
    {
     "name": "stdout",
     "output_type": "stream",
     "text": [
      "X_train shape:  (85, 30, 258)\n",
      "y_train shape:  (85, 3)\n",
      "X_test shape:  (5, 30, 258)\n",
      "y_test shape:  (5, 3)\n"
     ]
    }
   ],
   "source": [
    "# dataset\n",
    "X = np.array(sequences)\n",
    "y = to_categorical(labels).astype(int)\n",
    "X_train, X_test, y_train, y_test = train_test_split(X, y, test_size=0.05, random_state=42)\n",
    "print('X_train shape: ', X_train.shape)\n",
    "print('y_train shape: ',y_train.shape)\n",
    "print('X_test shape: ',X_test.shape)\n",
    "print('y_test shape: ',y_test.shape)"
   ]
  },
  {
   "cell_type": "code",
   "execution_count": 57,
   "metadata": {},
   "outputs": [],
   "source": [
    "# LSTM model\n",
    "model = Sequential()\n",
    "model.add(LSTM(64, return_sequences=True, activation='relu', input_shape=(30,258)))\n",
    "model.add(Dropout(0.2))\n",
    "model.add(LSTM(128, return_sequences=True, activation='relu'))\n",
    "model.add(Dropout(0.2))\n",
    "model.add(LSTM(64, return_sequences=False, activation='relu'))\n",
    "model.add(Dropout(0.2))\n",
    "model.add(Dense(64, activation='relu'))\n",
    "model.add(Dense(32, activation='relu'))\n",
    "model.add(Dense(3, activation='softmax'))"
   ]
  },
  {
   "cell_type": "code",
   "execution_count": 58,
   "metadata": {},
   "outputs": [
    {
     "name": "stdout",
     "output_type": "stream",
     "text": [
      "Model: \"sequential_3\"\n",
      "_________________________________________________________________\n",
      " Layer (type)                Output Shape              Param #   \n",
      "=================================================================\n",
      " lstm_6 (LSTM)               (None, 30, 64)            82688     \n",
      "                                                                 \n",
      " dropout_6 (Dropout)         (None, 30, 64)            0         \n",
      "                                                                 \n",
      " lstm_7 (LSTM)               (None, 30, 128)           98816     \n",
      "                                                                 \n",
      " dropout_7 (Dropout)         (None, 30, 128)           0         \n",
      "                                                                 \n",
      " lstm_8 (LSTM)               (None, 64)                49408     \n",
      "                                                                 \n",
      " dropout_8 (Dropout)         (None, 64)                0         \n",
      "                                                                 \n",
      " dense_5 (Dense)             (None, 64)                4160      \n",
      "                                                                 \n",
      " dense_6 (Dense)             (None, 32)                2080      \n",
      "                                                                 \n",
      " dense_7 (Dense)             (None, 3)                 99        \n",
      "                                                                 \n",
      "=================================================================\n",
      "Total params: 237251 (926.76 KB)\n",
      "Trainable params: 237251 (926.76 KB)\n",
      "Non-trainable params: 0 (0.00 Byte)\n",
      "_________________________________________________________________\n"
     ]
    }
   ],
   "source": [
    "model.compile(optimizer='Adam', loss='categorical_crossentropy', metrics=['accuracy'])\n",
    "log_dir = os.path.join('Logs')\n",
    "tb_callback = TensorBoard(log_dir=log_dir)\n",
    "model.summary()"
   ]
  },
  {
   "cell_type": "code",
   "execution_count": 61,
   "metadata": {},
   "outputs": [
    {
     "name": "stdout",
     "output_type": "stream",
     "text": [
      "Epoch 1/100\n",
      "3/3 [==============================] - 1s 21ms/step - loss: 0.4398 - accuracy: 0.7529\n",
      "Epoch 2/100\n",
      "3/3 [==============================] - 0s 23ms/step - loss: 0.4599 - accuracy: 0.6941\n",
      "Epoch 3/100\n",
      "3/3 [==============================] - 0s 21ms/step - loss: 0.4640 - accuracy: 0.6588\n",
      "Epoch 4/100\n",
      "3/3 [==============================] - 0s 22ms/step - loss: 0.4608 - accuracy: 0.6824\n",
      "Epoch 5/100\n",
      "3/3 [==============================] - 0s 33ms/step - loss: 0.4400 - accuracy: 0.7765\n",
      "Epoch 6/100\n",
      "3/3 [==============================] - 0s 23ms/step - loss: 0.4246 - accuracy: 0.7294\n",
      "Epoch 7/100\n",
      "3/3 [==============================] - 0s 29ms/step - loss: 0.4661 - accuracy: 0.6824\n",
      "Epoch 8/100\n",
      "3/3 [==============================] - 0s 34ms/step - loss: 0.4294 - accuracy: 0.7647\n",
      "Epoch 9/100\n",
      "3/3 [==============================] - 0s 22ms/step - loss: 0.4669 - accuracy: 0.6824\n",
      "Epoch 10/100\n",
      "3/3 [==============================] - 0s 20ms/step - loss: 0.4468 - accuracy: 0.7412\n",
      "Epoch 11/100\n",
      "3/3 [==============================] - 0s 21ms/step - loss: 0.4115 - accuracy: 0.7529\n",
      "Epoch 12/100\n",
      "3/3 [==============================] - 0s 20ms/step - loss: 0.4542 - accuracy: 0.7176\n",
      "Epoch 13/100\n",
      "3/3 [==============================] - 0s 23ms/step - loss: 0.4356 - accuracy: 0.7529\n",
      "Epoch 14/100\n",
      "3/3 [==============================] - 0s 23ms/step - loss: 0.4593 - accuracy: 0.7059\n",
      "Epoch 15/100\n",
      "3/3 [==============================] - 0s 20ms/step - loss: 0.4596 - accuracy: 0.6824\n",
      "Epoch 16/100\n",
      "3/3 [==============================] - 0s 20ms/step - loss: 0.4336 - accuracy: 0.7765\n",
      "Epoch 17/100\n",
      "3/3 [==============================] - 0s 20ms/step - loss: 0.4201 - accuracy: 0.6824\n",
      "Epoch 18/100\n",
      "3/3 [==============================] - 0s 26ms/step - loss: 0.4239 - accuracy: 0.7176\n",
      "Epoch 19/100\n",
      "3/3 [==============================] - 0s 28ms/step - loss: 0.4087 - accuracy: 0.8118\n",
      "Epoch 20/100\n",
      "3/3 [==============================] - 0s 26ms/step - loss: 0.4211 - accuracy: 0.7647\n",
      "Epoch 21/100\n",
      "3/3 [==============================] - 0s 45ms/step - loss: 0.3826 - accuracy: 0.7882\n",
      "Epoch 22/100\n",
      "3/3 [==============================] - 0s 28ms/step - loss: 0.4237 - accuracy: 0.7765\n",
      "Epoch 23/100\n",
      "3/3 [==============================] - 0s 44ms/step - loss: 0.4707 - accuracy: 0.7059\n",
      "Epoch 24/100\n",
      "3/3 [==============================] - 0s 25ms/step - loss: 0.4392 - accuracy: 0.7176\n",
      "Epoch 25/100\n",
      "3/3 [==============================] - 0s 28ms/step - loss: 0.4043 - accuracy: 0.6941\n",
      "Epoch 26/100\n",
      "3/3 [==============================] - 0s 29ms/step - loss: 0.3842 - accuracy: 0.8118\n",
      "Epoch 27/100\n",
      "3/3 [==============================] - 0s 29ms/step - loss: 0.3965 - accuracy: 0.7529\n",
      "Epoch 28/100\n",
      "3/3 [==============================] - 0s 32ms/step - loss: 0.3656 - accuracy: 0.8353\n",
      "Epoch 29/100\n",
      "3/3 [==============================] - 0s 28ms/step - loss: 0.3551 - accuracy: 0.8235\n",
      "Epoch 30/100\n",
      "3/3 [==============================] - 0s 20ms/step - loss: 0.3804 - accuracy: 0.7647\n",
      "Epoch 31/100\n",
      "3/3 [==============================] - 0s 17ms/step - loss: 0.4156 - accuracy: 0.7412\n",
      "Epoch 32/100\n",
      "3/3 [==============================] - 0s 30ms/step - loss: 0.3957 - accuracy: 0.8000\n",
      "Epoch 33/100\n",
      "3/3 [==============================] - 0s 22ms/step - loss: 0.4978 - accuracy: 0.7647\n",
      "Epoch 34/100\n",
      "3/3 [==============================] - 0s 21ms/step - loss: 0.4519 - accuracy: 0.7529\n",
      "Epoch 35/100\n",
      "3/3 [==============================] - 0s 27ms/step - loss: 0.4699 - accuracy: 0.6941\n",
      "Epoch 36/100\n",
      "3/3 [==============================] - 0s 20ms/step - loss: 0.4452 - accuracy: 0.7765\n",
      "Epoch 37/100\n",
      "3/3 [==============================] - 0s 27ms/step - loss: 0.4014 - accuracy: 0.7882\n",
      "Epoch 38/100\n",
      "3/3 [==============================] - 0s 27ms/step - loss: 0.4349 - accuracy: 0.7294\n",
      "Epoch 39/100\n",
      "3/3 [==============================] - 0s 48ms/step - loss: 0.4070 - accuracy: 0.7529\n",
      "Epoch 40/100\n",
      "3/3 [==============================] - 0s 30ms/step - loss: 0.4188 - accuracy: 0.8235\n",
      "Epoch 41/100\n",
      "3/3 [==============================] - 0s 25ms/step - loss: 0.3693 - accuracy: 0.8471\n",
      "Epoch 42/100\n",
      "3/3 [==============================] - 0s 29ms/step - loss: 0.4039 - accuracy: 0.7529\n",
      "Epoch 43/100\n",
      "3/3 [==============================] - 0s 28ms/step - loss: 0.3428 - accuracy: 0.8706\n",
      "Epoch 44/100\n",
      "3/3 [==============================] - 0s 27ms/step - loss: 0.3820 - accuracy: 0.8118\n",
      "Epoch 45/100\n",
      "3/3 [==============================] - 0s 30ms/step - loss: 0.3330 - accuracy: 0.8588\n",
      "Epoch 46/100\n",
      "3/3 [==============================] - 0s 21ms/step - loss: 0.3852 - accuracy: 0.8118\n",
      "Epoch 47/100\n",
      "3/3 [==============================] - 0s 22ms/step - loss: 0.3336 - accuracy: 0.8588\n",
      "Epoch 48/100\n",
      "3/3 [==============================] - 0s 27ms/step - loss: 0.4132 - accuracy: 0.7647\n",
      "Epoch 49/100\n",
      "3/3 [==============================] - 0s 28ms/step - loss: 0.3548 - accuracy: 0.8118\n",
      "Epoch 50/100\n",
      "3/3 [==============================] - 0s 28ms/step - loss: 0.3129 - accuracy: 0.8353\n",
      "Epoch 51/100\n",
      "3/3 [==============================] - 0s 41ms/step - loss: 0.3187 - accuracy: 0.8824\n",
      "Epoch 52/100\n",
      "3/3 [==============================] - 0s 29ms/step - loss: 0.3496 - accuracy: 0.8353\n",
      "Epoch 53/100\n",
      "3/3 [==============================] - 0s 24ms/step - loss: 0.3181 - accuracy: 0.8706\n",
      "Epoch 54/100\n",
      "3/3 [==============================] - 0s 26ms/step - loss: 0.2830 - accuracy: 0.8706\n",
      "Epoch 55/100\n",
      "3/3 [==============================] - 0s 30ms/step - loss: 0.2843 - accuracy: 0.8706\n",
      "Epoch 56/100\n",
      "3/3 [==============================] - 0s 28ms/step - loss: 0.2780 - accuracy: 0.8706\n",
      "Epoch 57/100\n",
      "3/3 [==============================] - 0s 26ms/step - loss: 0.2595 - accuracy: 0.8941\n",
      "Epoch 58/100\n",
      "3/3 [==============================] - 0s 37ms/step - loss: 0.2487 - accuracy: 0.9176\n",
      "Epoch 59/100\n",
      "3/3 [==============================] - 0s 26ms/step - loss: 0.2592 - accuracy: 0.8941\n",
      "Epoch 60/100\n",
      "3/3 [==============================] - 0s 28ms/step - loss: 0.2314 - accuracy: 0.9176\n",
      "Epoch 61/100\n",
      "3/3 [==============================] - 0s 27ms/step - loss: 0.2410 - accuracy: 0.9059\n",
      "Epoch 62/100\n",
      "3/3 [==============================] - 0s 28ms/step - loss: 0.2280 - accuracy: 0.9176\n",
      "Epoch 63/100\n",
      "3/3 [==============================] - 0s 27ms/step - loss: 0.2979 - accuracy: 0.8588\n",
      "Epoch 64/100\n",
      "3/3 [==============================] - 0s 28ms/step - loss: 0.2439 - accuracy: 0.9059\n",
      "Epoch 65/100\n",
      "3/3 [==============================] - 0s 25ms/step - loss: 0.2368 - accuracy: 0.9176\n",
      "Epoch 66/100\n",
      "3/3 [==============================] - 0s 28ms/step - loss: 0.2124 - accuracy: 0.9176\n",
      "Epoch 67/100\n",
      "3/3 [==============================] - 0s 28ms/step - loss: 0.2979 - accuracy: 0.8353\n",
      "Epoch 68/100\n",
      "3/3 [==============================] - 0s 27ms/step - loss: 0.3189 - accuracy: 0.8588\n",
      "Epoch 69/100\n",
      "3/3 [==============================] - 0s 26ms/step - loss: 0.4449 - accuracy: 0.8471\n",
      "Epoch 70/100\n",
      "3/3 [==============================] - 0s 21ms/step - loss: 0.3213 - accuracy: 0.8706\n",
      "Epoch 71/100\n",
      "3/3 [==============================] - 0s 20ms/step - loss: 0.2702 - accuracy: 0.9059\n",
      "Epoch 72/100\n",
      "3/3 [==============================] - 0s 30ms/step - loss: 0.2999 - accuracy: 0.8706\n",
      "Epoch 73/100\n",
      "3/3 [==============================] - 0s 24ms/step - loss: 0.2377 - accuracy: 0.9176\n",
      "Epoch 74/100\n",
      "3/3 [==============================] - 0s 23ms/step - loss: 0.2663 - accuracy: 0.8941\n",
      "Epoch 75/100\n",
      "3/3 [==============================] - 0s 26ms/step - loss: 0.2205 - accuracy: 0.9059\n",
      "Epoch 76/100\n",
      "3/3 [==============================] - 0s 79ms/step - loss: 0.2369 - accuracy: 0.8941\n",
      "Epoch 77/100\n",
      "3/3 [==============================] - 0s 29ms/step - loss: 0.2157 - accuracy: 0.9059\n",
      "Epoch 78/100\n",
      "3/3 [==============================] - 0s 29ms/step - loss: 0.2018 - accuracy: 0.9412\n",
      "Epoch 79/100\n",
      "3/3 [==============================] - 0s 30ms/step - loss: 0.1933 - accuracy: 0.9412\n",
      "Epoch 80/100\n",
      "3/3 [==============================] - 0s 24ms/step - loss: 0.2075 - accuracy: 0.9176\n",
      "Epoch 81/100\n",
      "3/3 [==============================] - 0s 18ms/step - loss: 0.2119 - accuracy: 0.9059\n",
      "Epoch 82/100\n",
      "3/3 [==============================] - 0s 28ms/step - loss: 0.1858 - accuracy: 0.9294\n",
      "Epoch 83/100\n",
      "3/3 [==============================] - 0s 27ms/step - loss: 0.2166 - accuracy: 0.9059\n",
      "Epoch 84/100\n",
      "3/3 [==============================] - 0s 29ms/step - loss: 0.2059 - accuracy: 0.9176\n",
      "Epoch 85/100\n",
      "3/3 [==============================] - 0s 21ms/step - loss: 0.2301 - accuracy: 0.9059\n",
      "Epoch 86/100\n",
      "3/3 [==============================] - 0s 22ms/step - loss: 0.1657 - accuracy: 0.9412\n",
      "Epoch 87/100\n",
      "3/3 [==============================] - 0s 20ms/step - loss: 0.1699 - accuracy: 0.9294\n",
      "Epoch 88/100\n",
      "3/3 [==============================] - 0s 27ms/step - loss: 0.1854 - accuracy: 0.9176\n",
      "Epoch 89/100\n",
      "3/3 [==============================] - 0s 28ms/step - loss: 0.1599 - accuracy: 0.9412\n",
      "Epoch 90/100\n",
      "3/3 [==============================] - 0s 21ms/step - loss: 0.1466 - accuracy: 0.9529\n",
      "Epoch 91/100\n",
      "3/3 [==============================] - 0s 27ms/step - loss: 0.1588 - accuracy: 0.9294\n",
      "Epoch 92/100\n",
      "3/3 [==============================] - 0s 27ms/step - loss: 0.1850 - accuracy: 0.9176\n",
      "Epoch 93/100\n",
      "3/3 [==============================] - 0s 24ms/step - loss: 0.1938 - accuracy: 0.9176\n",
      "Epoch 94/100\n",
      "3/3 [==============================] - 0s 23ms/step - loss: 0.1506 - accuracy: 0.9529\n",
      "Epoch 95/100\n",
      "3/3 [==============================] - 0s 23ms/step - loss: 0.1647 - accuracy: 0.9294\n",
      "Epoch 96/100\n",
      "3/3 [==============================] - 0s 27ms/step - loss: 0.1833 - accuracy: 0.9176\n",
      "Epoch 97/100\n",
      "3/3 [==============================] - 0s 22ms/step - loss: 0.1445 - accuracy: 0.9176\n",
      "Epoch 98/100\n",
      "3/3 [==============================] - 0s 20ms/step - loss: 0.1356 - accuracy: 0.9412\n",
      "Epoch 99/100\n",
      "3/3 [==============================] - 0s 35ms/step - loss: 0.1505 - accuracy: 0.9529\n",
      "Epoch 100/100\n",
      "3/3 [==============================] - 0s 21ms/step - loss: 0.1374 - accuracy: 0.9412\n"
     ]
    },
    {
     "data": {
      "text/plain": [
       "<keras.src.callbacks.History at 0x16ec7608110>"
      ]
     },
     "execution_count": 61,
     "metadata": {},
     "output_type": "execute_result"
    }
   ],
   "source": [
    "model.fit(X_train, y_train, epochs=100, callbacks=[tb_callback])"
   ]
  },
  {
   "cell_type": "code",
   "execution_count": 62,
   "metadata": {},
   "outputs": [
    {
     "name": "stdout",
     "output_type": "stream",
     "text": [
      "1/1 [==============================] - 0s 411ms/step\n",
      "punch\n",
      "punch\n"
     ]
    }
   ],
   "source": [
    "# predictions\n",
    "res = model.predict(X_test)\n",
    "print(actions[np.argmax(res[4])])\n",
    "print(actions[np.argmax(y_test[4])])"
   ]
  },
  {
   "cell_type": "code",
   "execution_count": null,
   "metadata": {},
   "outputs": [],
   "source": [
    "model.save('action.h5')"
   ]
  }
 ],
 "metadata": {
  "kernelspec": {
   "display_name": "Python 3",
   "language": "python",
   "name": "python3"
  },
  "language_info": {
   "codemirror_mode": {
    "name": "ipython",
    "version": 3
   },
   "file_extension": ".py",
   "mimetype": "text/x-python",
   "name": "python",
   "nbconvert_exporter": "python",
   "pygments_lexer": "ipython3",
   "version": "3.11.2"
  },
  "orig_nbformat": 4
 },
 "nbformat": 4,
 "nbformat_minor": 2
}
